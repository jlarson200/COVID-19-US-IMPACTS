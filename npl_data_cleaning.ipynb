{
  "nbformat": 4,
  "nbformat_minor": 0,
  "metadata": {
    "colab": {
      "name": "npl_data_cleaning.ipynb",
      "provenance": [],
      "collapsed_sections": [
        "sbd0Q6jwxeQN",
        "9bfB4U8HWudM",
        "U_rm6ALEW2F3"
      ],
      "toc_visible": true,
      "include_colab_link": true
    },
    "kernelspec": {
      "name": "python3",
      "display_name": "Python 3"
    }
  },
  "cells": [
    {
      "cell_type": "markdown",
      "metadata": {
        "id": "view-in-github",
        "colab_type": "text"
      },
      "source": [
        "<a href=\"https://colab.research.google.com/github/jlarson200/COVID-19-US-IMPACTS/blob/main/npl_data_cleaning.ipynb\" target=\"_parent\"><img src=\"https://colab.research.google.com/assets/colab-badge.svg\" alt=\"Open In Colab\"/></a>"
      ]
    },
    {
      "cell_type": "markdown",
      "metadata": {
        "id": "sbd0Q6jwxeQN"
      },
      "source": [
        "###DSCI 592 Team project based on a Kaggle Prediction Competition\r\n",
        "\r\n",
        "###### The site details are: https://www.kaggle.com/c/nlp-getting-started/data\r\n",
        "\r\n",
        "#####Natural Language Processing with Disaster Tweets\r\n",
        "#####Predict which Tweets are about real disasters and which ones are not"
      ]
    },
    {
      "cell_type": "markdown",
      "metadata": {
        "id": "pjgnyV2WLNQR"
      },
      "source": [
        "## Initial Exploration of the Data"
      ]
    },
    {
      "cell_type": "markdown",
      "metadata": {
        "id": "OrGs1CqdLUiP"
      },
      "source": [
        "### Data Grab"
      ]
    },
    {
      "cell_type": "code",
      "metadata": {
        "colab": {
          "base_uri": "https://localhost:8080/"
        },
        "id": "kEeJRWIHR2AA",
        "outputId": "6bcf6d1c-3249-4ac1-a445-ff41d3cb1eab"
      },
      "source": [
        "from google.colab import drive\r\n",
        "from google.colab import files\r\n",
        "\r\n",
        " \r\n",
        "# This will prompt for authorization.\r\n",
        "drive.mount('/content/drive', force_remount=True)"
      ],
      "execution_count": 1,
      "outputs": [
        {
          "output_type": "stream",
          "text": [
            "Mounted at /content/drive\n"
          ],
          "name": "stdout"
        }
      ]
    },
    {
      "cell_type": "code",
      "metadata": {
        "colab": {
          "base_uri": "https://localhost:8080/"
        },
        "id": "OsYhKSFpR6hw",
        "outputId": "76c9ff8a-ccd7-4aef-93b8-74a53e822b9e"
      },
      "source": [
        " DSCI_592 = '/content/drive/My Drive/DSCI_592'\r\n",
        "%cd {DSCI_592}\r\n",
        "!ls\r\n",
        "# https://stackoverflow.com/questions/54351852/accessing-shared-with-me-with-colab"
      ],
      "execution_count": 2,
      "outputs": [
        {
          "output_type": "stream",
          "text": [
            "/content/drive/.shortcut-targets-by-id/10-42_ifui6hlObPWvMMivdQwEFf6Vh43/DSCI_592\n",
            " Code   Data  'DSCI 592 Syllabus 2021.pdf'   Notes.gdoc   Papers\n"
          ],
          "name": "stdout"
        }
      ]
    },
    {
      "cell_type": "markdown",
      "metadata": {
        "id": "YhHwR_MuLeWp"
      },
      "source": [
        "### Data Check"
      ]
    },
    {
      "cell_type": "markdown",
      "metadata": {
        "id": "TZeNvHrhuLtv"
      },
      "source": [
        "###### Checking the train data set and displaying the 50 first rows"
      ]
    },
    {
      "cell_type": "code",
      "metadata": {
        "colab": {
          "base_uri": "https://localhost:8080/",
          "height": 1000
        },
        "id": "s1p3hwrcYb3d",
        "outputId": "09c48392-4883-47cd-d9f3-410d470755eb"
      },
      "source": [
        "import pandas as pd\r\n",
        "df = pd.read_csv ('Data/train.csv')\r\n",
        "df.head(50)"
      ],
      "execution_count": 3,
      "outputs": [
        {
          "output_type": "execute_result",
          "data": {
            "text/html": [
              "<div>\n",
              "<style scoped>\n",
              "    .dataframe tbody tr th:only-of-type {\n",
              "        vertical-align: middle;\n",
              "    }\n",
              "\n",
              "    .dataframe tbody tr th {\n",
              "        vertical-align: top;\n",
              "    }\n",
              "\n",
              "    .dataframe thead th {\n",
              "        text-align: right;\n",
              "    }\n",
              "</style>\n",
              "<table border=\"1\" class=\"dataframe\">\n",
              "  <thead>\n",
              "    <tr style=\"text-align: right;\">\n",
              "      <th></th>\n",
              "      <th>id</th>\n",
              "      <th>keyword</th>\n",
              "      <th>location</th>\n",
              "      <th>text</th>\n",
              "      <th>target</th>\n",
              "    </tr>\n",
              "  </thead>\n",
              "  <tbody>\n",
              "    <tr>\n",
              "      <th>0</th>\n",
              "      <td>1</td>\n",
              "      <td>NaN</td>\n",
              "      <td>NaN</td>\n",
              "      <td>Our Deeds are the Reason of this #earthquake M...</td>\n",
              "      <td>1</td>\n",
              "    </tr>\n",
              "    <tr>\n",
              "      <th>1</th>\n",
              "      <td>4</td>\n",
              "      <td>NaN</td>\n",
              "      <td>NaN</td>\n",
              "      <td>Forest fire near La Ronge Sask. Canada</td>\n",
              "      <td>1</td>\n",
              "    </tr>\n",
              "    <tr>\n",
              "      <th>2</th>\n",
              "      <td>5</td>\n",
              "      <td>NaN</td>\n",
              "      <td>NaN</td>\n",
              "      <td>All residents asked to 'shelter in place' are ...</td>\n",
              "      <td>1</td>\n",
              "    </tr>\n",
              "    <tr>\n",
              "      <th>3</th>\n",
              "      <td>6</td>\n",
              "      <td>NaN</td>\n",
              "      <td>NaN</td>\n",
              "      <td>13,000 people receive #wildfires evacuation or...</td>\n",
              "      <td>1</td>\n",
              "    </tr>\n",
              "    <tr>\n",
              "      <th>4</th>\n",
              "      <td>7</td>\n",
              "      <td>NaN</td>\n",
              "      <td>NaN</td>\n",
              "      <td>Just got sent this photo from Ruby #Alaska as ...</td>\n",
              "      <td>1</td>\n",
              "    </tr>\n",
              "    <tr>\n",
              "      <th>5</th>\n",
              "      <td>8</td>\n",
              "      <td>NaN</td>\n",
              "      <td>NaN</td>\n",
              "      <td>#RockyFire Update =&gt; California Hwy. 20 closed...</td>\n",
              "      <td>1</td>\n",
              "    </tr>\n",
              "    <tr>\n",
              "      <th>6</th>\n",
              "      <td>10</td>\n",
              "      <td>NaN</td>\n",
              "      <td>NaN</td>\n",
              "      <td>#flood #disaster Heavy rain causes flash flood...</td>\n",
              "      <td>1</td>\n",
              "    </tr>\n",
              "    <tr>\n",
              "      <th>7</th>\n",
              "      <td>13</td>\n",
              "      <td>NaN</td>\n",
              "      <td>NaN</td>\n",
              "      <td>I'm on top of the hill and I can see a fire in...</td>\n",
              "      <td>1</td>\n",
              "    </tr>\n",
              "    <tr>\n",
              "      <th>8</th>\n",
              "      <td>14</td>\n",
              "      <td>NaN</td>\n",
              "      <td>NaN</td>\n",
              "      <td>There's an emergency evacuation happening now ...</td>\n",
              "      <td>1</td>\n",
              "    </tr>\n",
              "    <tr>\n",
              "      <th>9</th>\n",
              "      <td>15</td>\n",
              "      <td>NaN</td>\n",
              "      <td>NaN</td>\n",
              "      <td>I'm afraid that the tornado is coming to our a...</td>\n",
              "      <td>1</td>\n",
              "    </tr>\n",
              "    <tr>\n",
              "      <th>10</th>\n",
              "      <td>16</td>\n",
              "      <td>NaN</td>\n",
              "      <td>NaN</td>\n",
              "      <td>Three people died from the heat wave so far</td>\n",
              "      <td>1</td>\n",
              "    </tr>\n",
              "    <tr>\n",
              "      <th>11</th>\n",
              "      <td>17</td>\n",
              "      <td>NaN</td>\n",
              "      <td>NaN</td>\n",
              "      <td>Haha South Tampa is getting flooded hah- WAIT ...</td>\n",
              "      <td>1</td>\n",
              "    </tr>\n",
              "    <tr>\n",
              "      <th>12</th>\n",
              "      <td>18</td>\n",
              "      <td>NaN</td>\n",
              "      <td>NaN</td>\n",
              "      <td>#raining #flooding #Florida #TampaBay #Tampa 1...</td>\n",
              "      <td>1</td>\n",
              "    </tr>\n",
              "    <tr>\n",
              "      <th>13</th>\n",
              "      <td>19</td>\n",
              "      <td>NaN</td>\n",
              "      <td>NaN</td>\n",
              "      <td>#Flood in Bago Myanmar #We arrived Bago</td>\n",
              "      <td>1</td>\n",
              "    </tr>\n",
              "    <tr>\n",
              "      <th>14</th>\n",
              "      <td>20</td>\n",
              "      <td>NaN</td>\n",
              "      <td>NaN</td>\n",
              "      <td>Damage to school bus on 80 in multi car crash ...</td>\n",
              "      <td>1</td>\n",
              "    </tr>\n",
              "    <tr>\n",
              "      <th>15</th>\n",
              "      <td>23</td>\n",
              "      <td>NaN</td>\n",
              "      <td>NaN</td>\n",
              "      <td>What's up man?</td>\n",
              "      <td>0</td>\n",
              "    </tr>\n",
              "    <tr>\n",
              "      <th>16</th>\n",
              "      <td>24</td>\n",
              "      <td>NaN</td>\n",
              "      <td>NaN</td>\n",
              "      <td>I love fruits</td>\n",
              "      <td>0</td>\n",
              "    </tr>\n",
              "    <tr>\n",
              "      <th>17</th>\n",
              "      <td>25</td>\n",
              "      <td>NaN</td>\n",
              "      <td>NaN</td>\n",
              "      <td>Summer is lovely</td>\n",
              "      <td>0</td>\n",
              "    </tr>\n",
              "    <tr>\n",
              "      <th>18</th>\n",
              "      <td>26</td>\n",
              "      <td>NaN</td>\n",
              "      <td>NaN</td>\n",
              "      <td>My car is so fast</td>\n",
              "      <td>0</td>\n",
              "    </tr>\n",
              "    <tr>\n",
              "      <th>19</th>\n",
              "      <td>28</td>\n",
              "      <td>NaN</td>\n",
              "      <td>NaN</td>\n",
              "      <td>What a goooooooaaaaaal!!!!!!</td>\n",
              "      <td>0</td>\n",
              "    </tr>\n",
              "    <tr>\n",
              "      <th>20</th>\n",
              "      <td>31</td>\n",
              "      <td>NaN</td>\n",
              "      <td>NaN</td>\n",
              "      <td>this is ridiculous....</td>\n",
              "      <td>0</td>\n",
              "    </tr>\n",
              "    <tr>\n",
              "      <th>21</th>\n",
              "      <td>32</td>\n",
              "      <td>NaN</td>\n",
              "      <td>NaN</td>\n",
              "      <td>London is cool ;)</td>\n",
              "      <td>0</td>\n",
              "    </tr>\n",
              "    <tr>\n",
              "      <th>22</th>\n",
              "      <td>33</td>\n",
              "      <td>NaN</td>\n",
              "      <td>NaN</td>\n",
              "      <td>Love skiing</td>\n",
              "      <td>0</td>\n",
              "    </tr>\n",
              "    <tr>\n",
              "      <th>23</th>\n",
              "      <td>34</td>\n",
              "      <td>NaN</td>\n",
              "      <td>NaN</td>\n",
              "      <td>What a wonderful day!</td>\n",
              "      <td>0</td>\n",
              "    </tr>\n",
              "    <tr>\n",
              "      <th>24</th>\n",
              "      <td>36</td>\n",
              "      <td>NaN</td>\n",
              "      <td>NaN</td>\n",
              "      <td>LOOOOOOL</td>\n",
              "      <td>0</td>\n",
              "    </tr>\n",
              "    <tr>\n",
              "      <th>25</th>\n",
              "      <td>37</td>\n",
              "      <td>NaN</td>\n",
              "      <td>NaN</td>\n",
              "      <td>No way...I can't eat that shit</td>\n",
              "      <td>0</td>\n",
              "    </tr>\n",
              "    <tr>\n",
              "      <th>26</th>\n",
              "      <td>38</td>\n",
              "      <td>NaN</td>\n",
              "      <td>NaN</td>\n",
              "      <td>Was in NYC last week!</td>\n",
              "      <td>0</td>\n",
              "    </tr>\n",
              "    <tr>\n",
              "      <th>27</th>\n",
              "      <td>39</td>\n",
              "      <td>NaN</td>\n",
              "      <td>NaN</td>\n",
              "      <td>Love my girlfriend</td>\n",
              "      <td>0</td>\n",
              "    </tr>\n",
              "    <tr>\n",
              "      <th>28</th>\n",
              "      <td>40</td>\n",
              "      <td>NaN</td>\n",
              "      <td>NaN</td>\n",
              "      <td>Cooool :)</td>\n",
              "      <td>0</td>\n",
              "    </tr>\n",
              "    <tr>\n",
              "      <th>29</th>\n",
              "      <td>41</td>\n",
              "      <td>NaN</td>\n",
              "      <td>NaN</td>\n",
              "      <td>Do you like pasta?</td>\n",
              "      <td>0</td>\n",
              "    </tr>\n",
              "    <tr>\n",
              "      <th>30</th>\n",
              "      <td>44</td>\n",
              "      <td>NaN</td>\n",
              "      <td>NaN</td>\n",
              "      <td>The end!</td>\n",
              "      <td>0</td>\n",
              "    </tr>\n",
              "    <tr>\n",
              "      <th>31</th>\n",
              "      <td>48</td>\n",
              "      <td>ablaze</td>\n",
              "      <td>Birmingham</td>\n",
              "      <td>@bbcmtd Wholesale Markets ablaze http://t.co/l...</td>\n",
              "      <td>1</td>\n",
              "    </tr>\n",
              "    <tr>\n",
              "      <th>32</th>\n",
              "      <td>49</td>\n",
              "      <td>ablaze</td>\n",
              "      <td>Est. September 2012 - Bristol</td>\n",
              "      <td>We always try to bring the heavy. #metal #RT h...</td>\n",
              "      <td>0</td>\n",
              "    </tr>\n",
              "    <tr>\n",
              "      <th>33</th>\n",
              "      <td>50</td>\n",
              "      <td>ablaze</td>\n",
              "      <td>AFRICA</td>\n",
              "      <td>#AFRICANBAZE: Breaking news:Nigeria flag set a...</td>\n",
              "      <td>1</td>\n",
              "    </tr>\n",
              "    <tr>\n",
              "      <th>34</th>\n",
              "      <td>52</td>\n",
              "      <td>ablaze</td>\n",
              "      <td>Philadelphia, PA</td>\n",
              "      <td>Crying out for more! Set me ablaze</td>\n",
              "      <td>0</td>\n",
              "    </tr>\n",
              "    <tr>\n",
              "      <th>35</th>\n",
              "      <td>53</td>\n",
              "      <td>ablaze</td>\n",
              "      <td>London, UK</td>\n",
              "      <td>On plus side LOOK AT THE SKY LAST NIGHT IT WAS...</td>\n",
              "      <td>0</td>\n",
              "    </tr>\n",
              "    <tr>\n",
              "      <th>36</th>\n",
              "      <td>54</td>\n",
              "      <td>ablaze</td>\n",
              "      <td>Pretoria</td>\n",
              "      <td>@PhDSquares #mufc they've built so much hype a...</td>\n",
              "      <td>0</td>\n",
              "    </tr>\n",
              "    <tr>\n",
              "      <th>37</th>\n",
              "      <td>55</td>\n",
              "      <td>ablaze</td>\n",
              "      <td>World Wide!!</td>\n",
              "      <td>INEC Office in Abia Set Ablaze - http://t.co/3...</td>\n",
              "      <td>1</td>\n",
              "    </tr>\n",
              "    <tr>\n",
              "      <th>38</th>\n",
              "      <td>56</td>\n",
              "      <td>ablaze</td>\n",
              "      <td>NaN</td>\n",
              "      <td>Barbados #Bridgetown JAMAICA ÛÒ Two cars set ...</td>\n",
              "      <td>1</td>\n",
              "    </tr>\n",
              "    <tr>\n",
              "      <th>39</th>\n",
              "      <td>57</td>\n",
              "      <td>ablaze</td>\n",
              "      <td>Paranaque City</td>\n",
              "      <td>Ablaze for you Lord :D</td>\n",
              "      <td>0</td>\n",
              "    </tr>\n",
              "    <tr>\n",
              "      <th>40</th>\n",
              "      <td>59</td>\n",
              "      <td>ablaze</td>\n",
              "      <td>Live On Webcam</td>\n",
              "      <td>Check these out: http://t.co/rOI2NSmEJJ http:/...</td>\n",
              "      <td>0</td>\n",
              "    </tr>\n",
              "    <tr>\n",
              "      <th>41</th>\n",
              "      <td>61</td>\n",
              "      <td>ablaze</td>\n",
              "      <td>NaN</td>\n",
              "      <td>on the outside you're ablaze and alive\\nbut yo...</td>\n",
              "      <td>0</td>\n",
              "    </tr>\n",
              "    <tr>\n",
              "      <th>42</th>\n",
              "      <td>62</td>\n",
              "      <td>ablaze</td>\n",
              "      <td>milky way</td>\n",
              "      <td>Had an awesome time visiting the CFC head offi...</td>\n",
              "      <td>0</td>\n",
              "    </tr>\n",
              "    <tr>\n",
              "      <th>43</th>\n",
              "      <td>63</td>\n",
              "      <td>ablaze</td>\n",
              "      <td>NaN</td>\n",
              "      <td>SOOOO PUMPED FOR ABLAZE ???? @southridgelife</td>\n",
              "      <td>0</td>\n",
              "    </tr>\n",
              "    <tr>\n",
              "      <th>44</th>\n",
              "      <td>64</td>\n",
              "      <td>ablaze</td>\n",
              "      <td>NaN</td>\n",
              "      <td>I wanted to set Chicago ablaze with my preachi...</td>\n",
              "      <td>0</td>\n",
              "    </tr>\n",
              "    <tr>\n",
              "      <th>45</th>\n",
              "      <td>65</td>\n",
              "      <td>ablaze</td>\n",
              "      <td>NaN</td>\n",
              "      <td>I gained 3 followers in the last week. You? Kn...</td>\n",
              "      <td>0</td>\n",
              "    </tr>\n",
              "    <tr>\n",
              "      <th>46</th>\n",
              "      <td>66</td>\n",
              "      <td>ablaze</td>\n",
              "      <td>GREENSBORO,NORTH CAROLINA</td>\n",
              "      <td>How the West was burned: Thousands of wildfire...</td>\n",
              "      <td>1</td>\n",
              "    </tr>\n",
              "    <tr>\n",
              "      <th>47</th>\n",
              "      <td>67</td>\n",
              "      <td>ablaze</td>\n",
              "      <td>NaN</td>\n",
              "      <td>Building the perfect tracklist to life leave t...</td>\n",
              "      <td>0</td>\n",
              "    </tr>\n",
              "    <tr>\n",
              "      <th>48</th>\n",
              "      <td>68</td>\n",
              "      <td>ablaze</td>\n",
              "      <td>Live On Webcam</td>\n",
              "      <td>Check these out: http://t.co/rOI2NSmEJJ http:/...</td>\n",
              "      <td>0</td>\n",
              "    </tr>\n",
              "    <tr>\n",
              "      <th>49</th>\n",
              "      <td>71</td>\n",
              "      <td>ablaze</td>\n",
              "      <td>England.</td>\n",
              "      <td>First night with retainers in. It's quite weir...</td>\n",
              "      <td>0</td>\n",
              "    </tr>\n",
              "  </tbody>\n",
              "</table>\n",
              "</div>"
            ],
            "text/plain": [
              "    id keyword  ...                                               text target\n",
              "0    1     NaN  ...  Our Deeds are the Reason of this #earthquake M...      1\n",
              "1    4     NaN  ...             Forest fire near La Ronge Sask. Canada      1\n",
              "2    5     NaN  ...  All residents asked to 'shelter in place' are ...      1\n",
              "3    6     NaN  ...  13,000 people receive #wildfires evacuation or...      1\n",
              "4    7     NaN  ...  Just got sent this photo from Ruby #Alaska as ...      1\n",
              "5    8     NaN  ...  #RockyFire Update => California Hwy. 20 closed...      1\n",
              "6   10     NaN  ...  #flood #disaster Heavy rain causes flash flood...      1\n",
              "7   13     NaN  ...  I'm on top of the hill and I can see a fire in...      1\n",
              "8   14     NaN  ...  There's an emergency evacuation happening now ...      1\n",
              "9   15     NaN  ...  I'm afraid that the tornado is coming to our a...      1\n",
              "10  16     NaN  ...        Three people died from the heat wave so far      1\n",
              "11  17     NaN  ...  Haha South Tampa is getting flooded hah- WAIT ...      1\n",
              "12  18     NaN  ...  #raining #flooding #Florida #TampaBay #Tampa 1...      1\n",
              "13  19     NaN  ...            #Flood in Bago Myanmar #We arrived Bago      1\n",
              "14  20     NaN  ...  Damage to school bus on 80 in multi car crash ...      1\n",
              "15  23     NaN  ...                                     What's up man?      0\n",
              "16  24     NaN  ...                                      I love fruits      0\n",
              "17  25     NaN  ...                                   Summer is lovely      0\n",
              "18  26     NaN  ...                                  My car is so fast      0\n",
              "19  28     NaN  ...                       What a goooooooaaaaaal!!!!!!      0\n",
              "20  31     NaN  ...                             this is ridiculous....      0\n",
              "21  32     NaN  ...                                  London is cool ;)      0\n",
              "22  33     NaN  ...                                        Love skiing      0\n",
              "23  34     NaN  ...                              What a wonderful day!      0\n",
              "24  36     NaN  ...                                           LOOOOOOL      0\n",
              "25  37     NaN  ...                     No way...I can't eat that shit      0\n",
              "26  38     NaN  ...                              Was in NYC last week!      0\n",
              "27  39     NaN  ...                                 Love my girlfriend      0\n",
              "28  40     NaN  ...                                          Cooool :)      0\n",
              "29  41     NaN  ...                                 Do you like pasta?      0\n",
              "30  44     NaN  ...                                           The end!      0\n",
              "31  48  ablaze  ...  @bbcmtd Wholesale Markets ablaze http://t.co/l...      1\n",
              "32  49  ablaze  ...  We always try to bring the heavy. #metal #RT h...      0\n",
              "33  50  ablaze  ...  #AFRICANBAZE: Breaking news:Nigeria flag set a...      1\n",
              "34  52  ablaze  ...                 Crying out for more! Set me ablaze      0\n",
              "35  53  ablaze  ...  On plus side LOOK AT THE SKY LAST NIGHT IT WAS...      0\n",
              "36  54  ablaze  ...  @PhDSquares #mufc they've built so much hype a...      0\n",
              "37  55  ablaze  ...  INEC Office in Abia Set Ablaze - http://t.co/3...      1\n",
              "38  56  ablaze  ...  Barbados #Bridgetown JAMAICA ÛÒ Two cars set ...      1\n",
              "39  57  ablaze  ...                             Ablaze for you Lord :D      0\n",
              "40  59  ablaze  ...  Check these out: http://t.co/rOI2NSmEJJ http:/...      0\n",
              "41  61  ablaze  ...  on the outside you're ablaze and alive\\nbut yo...      0\n",
              "42  62  ablaze  ...  Had an awesome time visiting the CFC head offi...      0\n",
              "43  63  ablaze  ...       SOOOO PUMPED FOR ABLAZE ???? @southridgelife      0\n",
              "44  64  ablaze  ...  I wanted to set Chicago ablaze with my preachi...      0\n",
              "45  65  ablaze  ...  I gained 3 followers in the last week. You? Kn...      0\n",
              "46  66  ablaze  ...  How the West was burned: Thousands of wildfire...      1\n",
              "47  67  ablaze  ...  Building the perfect tracklist to life leave t...      0\n",
              "48  68  ablaze  ...  Check these out: http://t.co/rOI2NSmEJJ http:/...      0\n",
              "49  71  ablaze  ...  First night with retainers in. It's quite weir...      0\n",
              "\n",
              "[50 rows x 5 columns]"
            ]
          },
          "metadata": {
            "tags": []
          },
          "execution_count": 3
        }
      ]
    },
    {
      "cell_type": "markdown",
      "metadata": {
        "id": "2eNgBIFruqu6"
      },
      "source": [
        "##### The shape of the train data set is:"
      ]
    },
    {
      "cell_type": "code",
      "metadata": {
        "colab": {
          "base_uri": "https://localhost:8080/"
        },
        "id": "1n-7IFbqb7RP",
        "outputId": "078b2ddc-b8c0-40a8-aed5-d1df8dd79298"
      },
      "source": [
        "df.shape"
      ],
      "execution_count": 4,
      "outputs": [
        {
          "output_type": "execute_result",
          "data": {
            "text/plain": [
              "(7613, 5)"
            ]
          },
          "metadata": {
            "tags": []
          },
          "execution_count": 4
        }
      ]
    },
    {
      "cell_type": "markdown",
      "metadata": {
        "id": "jYvEnrIOvQHg"
      },
      "source": [
        "#####The train data set column headers are:"
      ]
    },
    {
      "cell_type": "code",
      "metadata": {
        "colab": {
          "base_uri": "https://localhost:8080/"
        },
        "id": "ApiirecnvGwx",
        "outputId": "582af515-482b-4555-fa85-21fd7a107b5d"
      },
      "source": [
        "df.columns"
      ],
      "execution_count": 5,
      "outputs": [
        {
          "output_type": "execute_result",
          "data": {
            "text/plain": [
              "Index(['id', 'keyword', 'location', 'text', 'target'], dtype='object')"
            ]
          },
          "metadata": {
            "tags": []
          },
          "execution_count": 5
        }
      ]
    },
    {
      "cell_type": "markdown",
      "metadata": {
        "id": "gLWI_3THu2dJ"
      },
      "source": [
        "#####The info of train data set displays 5 columns and the count of data included "
      ]
    },
    {
      "cell_type": "code",
      "metadata": {
        "colab": {
          "base_uri": "https://localhost:8080/"
        },
        "id": "19BArmgwcmWq",
        "outputId": "4d5f82bb-7528-4310-9fb9-c640599d7bf0"
      },
      "source": [
        "df.info()"
      ],
      "execution_count": 6,
      "outputs": [
        {
          "output_type": "stream",
          "text": [
            "<class 'pandas.core.frame.DataFrame'>\n",
            "RangeIndex: 7613 entries, 0 to 7612\n",
            "Data columns (total 5 columns):\n",
            " #   Column    Non-Null Count  Dtype \n",
            "---  ------    --------------  ----- \n",
            " 0   id        7613 non-null   int64 \n",
            " 1   keyword   7552 non-null   object\n",
            " 2   location  5080 non-null   object\n",
            " 3   text      7613 non-null   object\n",
            " 4   target    7613 non-null   int64 \n",
            "dtypes: int64(2), object(3)\n",
            "memory usage: 297.5+ KB\n"
          ],
          "name": "stdout"
        }
      ]
    },
    {
      "cell_type": "code",
      "metadata": {
        "colab": {
          "base_uri": "https://localhost:8080/",
          "height": 290
        },
        "id": "1uv_-wPDLr-o",
        "outputId": "296ed70b-0c54-4d7d-c975-1f88d2028162"
      },
      "source": [
        "df.describe()"
      ],
      "execution_count": 7,
      "outputs": [
        {
          "output_type": "execute_result",
          "data": {
            "text/html": [
              "<div>\n",
              "<style scoped>\n",
              "    .dataframe tbody tr th:only-of-type {\n",
              "        vertical-align: middle;\n",
              "    }\n",
              "\n",
              "    .dataframe tbody tr th {\n",
              "        vertical-align: top;\n",
              "    }\n",
              "\n",
              "    .dataframe thead th {\n",
              "        text-align: right;\n",
              "    }\n",
              "</style>\n",
              "<table border=\"1\" class=\"dataframe\">\n",
              "  <thead>\n",
              "    <tr style=\"text-align: right;\">\n",
              "      <th></th>\n",
              "      <th>id</th>\n",
              "      <th>target</th>\n",
              "    </tr>\n",
              "  </thead>\n",
              "  <tbody>\n",
              "    <tr>\n",
              "      <th>count</th>\n",
              "      <td>7613.000000</td>\n",
              "      <td>7613.00000</td>\n",
              "    </tr>\n",
              "    <tr>\n",
              "      <th>mean</th>\n",
              "      <td>5441.934848</td>\n",
              "      <td>0.42966</td>\n",
              "    </tr>\n",
              "    <tr>\n",
              "      <th>std</th>\n",
              "      <td>3137.116090</td>\n",
              "      <td>0.49506</td>\n",
              "    </tr>\n",
              "    <tr>\n",
              "      <th>min</th>\n",
              "      <td>1.000000</td>\n",
              "      <td>0.00000</td>\n",
              "    </tr>\n",
              "    <tr>\n",
              "      <th>25%</th>\n",
              "      <td>2734.000000</td>\n",
              "      <td>0.00000</td>\n",
              "    </tr>\n",
              "    <tr>\n",
              "      <th>50%</th>\n",
              "      <td>5408.000000</td>\n",
              "      <td>0.00000</td>\n",
              "    </tr>\n",
              "    <tr>\n",
              "      <th>75%</th>\n",
              "      <td>8146.000000</td>\n",
              "      <td>1.00000</td>\n",
              "    </tr>\n",
              "    <tr>\n",
              "      <th>max</th>\n",
              "      <td>10873.000000</td>\n",
              "      <td>1.00000</td>\n",
              "    </tr>\n",
              "  </tbody>\n",
              "</table>\n",
              "</div>"
            ],
            "text/plain": [
              "                 id      target\n",
              "count   7613.000000  7613.00000\n",
              "mean    5441.934848     0.42966\n",
              "std     3137.116090     0.49506\n",
              "min        1.000000     0.00000\n",
              "25%     2734.000000     0.00000\n",
              "50%     5408.000000     0.00000\n",
              "75%     8146.000000     1.00000\n",
              "max    10873.000000     1.00000"
            ]
          },
          "metadata": {
            "tags": []
          },
          "execution_count": 7
        }
      ]
    },
    {
      "cell_type": "markdown",
      "metadata": {
        "id": "B4mochKMvwu9"
      },
      "source": [
        "#####The count of nulls by column is:"
      ]
    },
    {
      "cell_type": "code",
      "metadata": {
        "colab": {
          "base_uri": "https://localhost:8080/"
        },
        "id": "2jVtv4X1smk8",
        "outputId": "b203196e-fee8-457b-da08-675140f345cf"
      },
      "source": [
        "df.isnull().sum()"
      ],
      "execution_count": 8,
      "outputs": [
        {
          "output_type": "execute_result",
          "data": {
            "text/plain": [
              "id             0\n",
              "keyword       61\n",
              "location    2533\n",
              "text           0\n",
              "target         0\n",
              "dtype: int64"
            ]
          },
          "metadata": {
            "tags": []
          },
          "execution_count": 8
        }
      ]
    },
    {
      "cell_type": "markdown",
      "metadata": {
        "id": "GAwoVKYTVyBI"
      },
      "source": [
        "#####The count of keywords by targets \r\n",
        "\r\n",
        "This is to see if any of the keywords have unbalanced targets. For example Aftershock has 0 true disasters and Wreckage has 0 false disasters"
      ]
    },
    {
      "cell_type": "code",
      "metadata": {
        "colab": {
          "base_uri": "https://localhost:8080/",
          "height": 218
        },
        "id": "xAdETdRFUQ2F",
        "outputId": "d66b7076-d4b1-4184-87a9-ece43fe20ba2"
      },
      "source": [
        "pd.crosstab(columns = df.keyword, index = df.target,\r\n",
        "                     margins=True, margins_name=\"Total\")"
      ],
      "execution_count": 9,
      "outputs": [
        {
          "output_type": "execute_result",
          "data": {
            "text/html": [
              "<div>\n",
              "<style scoped>\n",
              "    .dataframe tbody tr th:only-of-type {\n",
              "        vertical-align: middle;\n",
              "    }\n",
              "\n",
              "    .dataframe tbody tr th {\n",
              "        vertical-align: top;\n",
              "    }\n",
              "\n",
              "    .dataframe thead th {\n",
              "        text-align: right;\n",
              "    }\n",
              "</style>\n",
              "<table border=\"1\" class=\"dataframe\">\n",
              "  <thead>\n",
              "    <tr style=\"text-align: right;\">\n",
              "      <th>keyword</th>\n",
              "      <th>ablaze</th>\n",
              "      <th>accident</th>\n",
              "      <th>aftershock</th>\n",
              "      <th>airplane%20accident</th>\n",
              "      <th>ambulance</th>\n",
              "      <th>annihilated</th>\n",
              "      <th>annihilation</th>\n",
              "      <th>apocalypse</th>\n",
              "      <th>armageddon</th>\n",
              "      <th>army</th>\n",
              "      <th>arson</th>\n",
              "      <th>arsonist</th>\n",
              "      <th>attack</th>\n",
              "      <th>attacked</th>\n",
              "      <th>avalanche</th>\n",
              "      <th>battle</th>\n",
              "      <th>bioterror</th>\n",
              "      <th>bioterrorism</th>\n",
              "      <th>blaze</th>\n",
              "      <th>blazing</th>\n",
              "      <th>bleeding</th>\n",
              "      <th>blew%20up</th>\n",
              "      <th>blight</th>\n",
              "      <th>blizzard</th>\n",
              "      <th>blood</th>\n",
              "      <th>bloody</th>\n",
              "      <th>blown%20up</th>\n",
              "      <th>body%20bag</th>\n",
              "      <th>body%20bagging</th>\n",
              "      <th>body%20bags</th>\n",
              "      <th>bomb</th>\n",
              "      <th>bombed</th>\n",
              "      <th>bombing</th>\n",
              "      <th>bridge%20collapse</th>\n",
              "      <th>buildings%20burning</th>\n",
              "      <th>buildings%20on%20fire</th>\n",
              "      <th>burned</th>\n",
              "      <th>burning</th>\n",
              "      <th>burning%20buildings</th>\n",
              "      <th>bush%20fires</th>\n",
              "      <th>...</th>\n",
              "      <th>storm</th>\n",
              "      <th>stretcher</th>\n",
              "      <th>structural%20failure</th>\n",
              "      <th>suicide%20bomb</th>\n",
              "      <th>suicide%20bomber</th>\n",
              "      <th>suicide%20bombing</th>\n",
              "      <th>sunk</th>\n",
              "      <th>survive</th>\n",
              "      <th>survived</th>\n",
              "      <th>survivors</th>\n",
              "      <th>terrorism</th>\n",
              "      <th>terrorist</th>\n",
              "      <th>threat</th>\n",
              "      <th>thunder</th>\n",
              "      <th>thunderstorm</th>\n",
              "      <th>tornado</th>\n",
              "      <th>tragedy</th>\n",
              "      <th>trapped</th>\n",
              "      <th>trauma</th>\n",
              "      <th>traumatised</th>\n",
              "      <th>trouble</th>\n",
              "      <th>tsunami</th>\n",
              "      <th>twister</th>\n",
              "      <th>typhoon</th>\n",
              "      <th>upheaval</th>\n",
              "      <th>violent%20storm</th>\n",
              "      <th>volcano</th>\n",
              "      <th>war%20zone</th>\n",
              "      <th>weapon</th>\n",
              "      <th>weapons</th>\n",
              "      <th>whirlwind</th>\n",
              "      <th>wild%20fires</th>\n",
              "      <th>wildfire</th>\n",
              "      <th>windstorm</th>\n",
              "      <th>wounded</th>\n",
              "      <th>wounds</th>\n",
              "      <th>wreck</th>\n",
              "      <th>wreckage</th>\n",
              "      <th>wrecked</th>\n",
              "      <th>Total</th>\n",
              "    </tr>\n",
              "    <tr>\n",
              "      <th>target</th>\n",
              "      <th></th>\n",
              "      <th></th>\n",
              "      <th></th>\n",
              "      <th></th>\n",
              "      <th></th>\n",
              "      <th></th>\n",
              "      <th></th>\n",
              "      <th></th>\n",
              "      <th></th>\n",
              "      <th></th>\n",
              "      <th></th>\n",
              "      <th></th>\n",
              "      <th></th>\n",
              "      <th></th>\n",
              "      <th></th>\n",
              "      <th></th>\n",
              "      <th></th>\n",
              "      <th></th>\n",
              "      <th></th>\n",
              "      <th></th>\n",
              "      <th></th>\n",
              "      <th></th>\n",
              "      <th></th>\n",
              "      <th></th>\n",
              "      <th></th>\n",
              "      <th></th>\n",
              "      <th></th>\n",
              "      <th></th>\n",
              "      <th></th>\n",
              "      <th></th>\n",
              "      <th></th>\n",
              "      <th></th>\n",
              "      <th></th>\n",
              "      <th></th>\n",
              "      <th></th>\n",
              "      <th></th>\n",
              "      <th></th>\n",
              "      <th></th>\n",
              "      <th></th>\n",
              "      <th></th>\n",
              "      <th></th>\n",
              "      <th></th>\n",
              "      <th></th>\n",
              "      <th></th>\n",
              "      <th></th>\n",
              "      <th></th>\n",
              "      <th></th>\n",
              "      <th></th>\n",
              "      <th></th>\n",
              "      <th></th>\n",
              "      <th></th>\n",
              "      <th></th>\n",
              "      <th></th>\n",
              "      <th></th>\n",
              "      <th></th>\n",
              "      <th></th>\n",
              "      <th></th>\n",
              "      <th></th>\n",
              "      <th></th>\n",
              "      <th></th>\n",
              "      <th></th>\n",
              "      <th></th>\n",
              "      <th></th>\n",
              "      <th></th>\n",
              "      <th></th>\n",
              "      <th></th>\n",
              "      <th></th>\n",
              "      <th></th>\n",
              "      <th></th>\n",
              "      <th></th>\n",
              "      <th></th>\n",
              "      <th></th>\n",
              "      <th></th>\n",
              "      <th></th>\n",
              "      <th></th>\n",
              "      <th></th>\n",
              "      <th></th>\n",
              "      <th></th>\n",
              "      <th></th>\n",
              "      <th></th>\n",
              "      <th></th>\n",
              "    </tr>\n",
              "  </thead>\n",
              "  <tbody>\n",
              "    <tr>\n",
              "      <th>0</th>\n",
              "      <td>23</td>\n",
              "      <td>11</td>\n",
              "      <td>34</td>\n",
              "      <td>5</td>\n",
              "      <td>18</td>\n",
              "      <td>23</td>\n",
              "      <td>19</td>\n",
              "      <td>23</td>\n",
              "      <td>37</td>\n",
              "      <td>29</td>\n",
              "      <td>10</td>\n",
              "      <td>26</td>\n",
              "      <td>11</td>\n",
              "      <td>14</td>\n",
              "      <td>26</td>\n",
              "      <td>21</td>\n",
              "      <td>15</td>\n",
              "      <td>9</td>\n",
              "      <td>33</td>\n",
              "      <td>33</td>\n",
              "      <td>30</td>\n",
              "      <td>31</td>\n",
              "      <td>30</td>\n",
              "      <td>33</td>\n",
              "      <td>30</td>\n",
              "      <td>32</td>\n",
              "      <td>28</td>\n",
              "      <td>32</td>\n",
              "      <td>28</td>\n",
              "      <td>40</td>\n",
              "      <td>19</td>\n",
              "      <td>19</td>\n",
              "      <td>2</td>\n",
              "      <td>6</td>\n",
              "      <td>11</td>\n",
              "      <td>5</td>\n",
              "      <td>26</td>\n",
              "      <td>24</td>\n",
              "      <td>16</td>\n",
              "      <td>7</td>\n",
              "      <td>...</td>\n",
              "      <td>17</td>\n",
              "      <td>30</td>\n",
              "      <td>12</td>\n",
              "      <td>3</td>\n",
              "      <td>1</td>\n",
              "      <td>1</td>\n",
              "      <td>30</td>\n",
              "      <td>27</td>\n",
              "      <td>23</td>\n",
              "      <td>9</td>\n",
              "      <td>10</td>\n",
              "      <td>8</td>\n",
              "      <td>9</td>\n",
              "      <td>26</td>\n",
              "      <td>7</td>\n",
              "      <td>19</td>\n",
              "      <td>14</td>\n",
              "      <td>23</td>\n",
              "      <td>20</td>\n",
              "      <td>33</td>\n",
              "      <td>28</td>\n",
              "      <td>23</td>\n",
              "      <td>35</td>\n",
              "      <td>1</td>\n",
              "      <td>32</td>\n",
              "      <td>7</td>\n",
              "      <td>9</td>\n",
              "      <td>17</td>\n",
              "      <td>25</td>\n",
              "      <td>22</td>\n",
              "      <td>25</td>\n",
              "      <td>4</td>\n",
              "      <td>4</td>\n",
              "      <td>24</td>\n",
              "      <td>11</td>\n",
              "      <td>23</td>\n",
              "      <td>30</td>\n",
              "      <td>0</td>\n",
              "      <td>36</td>\n",
              "      <td>4323</td>\n",
              "    </tr>\n",
              "    <tr>\n",
              "      <th>1</th>\n",
              "      <td>13</td>\n",
              "      <td>24</td>\n",
              "      <td>0</td>\n",
              "      <td>30</td>\n",
              "      <td>20</td>\n",
              "      <td>11</td>\n",
              "      <td>10</td>\n",
              "      <td>9</td>\n",
              "      <td>5</td>\n",
              "      <td>5</td>\n",
              "      <td>22</td>\n",
              "      <td>8</td>\n",
              "      <td>25</td>\n",
              "      <td>21</td>\n",
              "      <td>4</td>\n",
              "      <td>5</td>\n",
              "      <td>22</td>\n",
              "      <td>21</td>\n",
              "      <td>5</td>\n",
              "      <td>1</td>\n",
              "      <td>5</td>\n",
              "      <td>2</td>\n",
              "      <td>2</td>\n",
              "      <td>4</td>\n",
              "      <td>5</td>\n",
              "      <td>3</td>\n",
              "      <td>5</td>\n",
              "      <td>1</td>\n",
              "      <td>5</td>\n",
              "      <td>1</td>\n",
              "      <td>15</td>\n",
              "      <td>19</td>\n",
              "      <td>27</td>\n",
              "      <td>29</td>\n",
              "      <td>24</td>\n",
              "      <td>28</td>\n",
              "      <td>7</td>\n",
              "      <td>10</td>\n",
              "      <td>21</td>\n",
              "      <td>18</td>\n",
              "      <td>...</td>\n",
              "      <td>18</td>\n",
              "      <td>3</td>\n",
              "      <td>23</td>\n",
              "      <td>32</td>\n",
              "      <td>30</td>\n",
              "      <td>32</td>\n",
              "      <td>9</td>\n",
              "      <td>5</td>\n",
              "      <td>10</td>\n",
              "      <td>21</td>\n",
              "      <td>24</td>\n",
              "      <td>23</td>\n",
              "      <td>2</td>\n",
              "      <td>12</td>\n",
              "      <td>26</td>\n",
              "      <td>16</td>\n",
              "      <td>22</td>\n",
              "      <td>9</td>\n",
              "      <td>11</td>\n",
              "      <td>2</td>\n",
              "      <td>5</td>\n",
              "      <td>11</td>\n",
              "      <td>5</td>\n",
              "      <td>37</td>\n",
              "      <td>6</td>\n",
              "      <td>26</td>\n",
              "      <td>18</td>\n",
              "      <td>7</td>\n",
              "      <td>14</td>\n",
              "      <td>17</td>\n",
              "      <td>14</td>\n",
              "      <td>27</td>\n",
              "      <td>29</td>\n",
              "      <td>16</td>\n",
              "      <td>26</td>\n",
              "      <td>10</td>\n",
              "      <td>7</td>\n",
              "      <td>39</td>\n",
              "      <td>3</td>\n",
              "      <td>3229</td>\n",
              "    </tr>\n",
              "    <tr>\n",
              "      <th>Total</th>\n",
              "      <td>36</td>\n",
              "      <td>35</td>\n",
              "      <td>34</td>\n",
              "      <td>35</td>\n",
              "      <td>38</td>\n",
              "      <td>34</td>\n",
              "      <td>29</td>\n",
              "      <td>32</td>\n",
              "      <td>42</td>\n",
              "      <td>34</td>\n",
              "      <td>32</td>\n",
              "      <td>34</td>\n",
              "      <td>36</td>\n",
              "      <td>35</td>\n",
              "      <td>30</td>\n",
              "      <td>26</td>\n",
              "      <td>37</td>\n",
              "      <td>30</td>\n",
              "      <td>38</td>\n",
              "      <td>34</td>\n",
              "      <td>35</td>\n",
              "      <td>33</td>\n",
              "      <td>32</td>\n",
              "      <td>37</td>\n",
              "      <td>35</td>\n",
              "      <td>35</td>\n",
              "      <td>33</td>\n",
              "      <td>33</td>\n",
              "      <td>33</td>\n",
              "      <td>41</td>\n",
              "      <td>34</td>\n",
              "      <td>38</td>\n",
              "      <td>29</td>\n",
              "      <td>35</td>\n",
              "      <td>35</td>\n",
              "      <td>33</td>\n",
              "      <td>33</td>\n",
              "      <td>34</td>\n",
              "      <td>37</td>\n",
              "      <td>25</td>\n",
              "      <td>...</td>\n",
              "      <td>35</td>\n",
              "      <td>33</td>\n",
              "      <td>35</td>\n",
              "      <td>35</td>\n",
              "      <td>31</td>\n",
              "      <td>33</td>\n",
              "      <td>39</td>\n",
              "      <td>32</td>\n",
              "      <td>33</td>\n",
              "      <td>30</td>\n",
              "      <td>34</td>\n",
              "      <td>31</td>\n",
              "      <td>11</td>\n",
              "      <td>38</td>\n",
              "      <td>33</td>\n",
              "      <td>35</td>\n",
              "      <td>36</td>\n",
              "      <td>32</td>\n",
              "      <td>31</td>\n",
              "      <td>35</td>\n",
              "      <td>33</td>\n",
              "      <td>34</td>\n",
              "      <td>40</td>\n",
              "      <td>38</td>\n",
              "      <td>38</td>\n",
              "      <td>33</td>\n",
              "      <td>27</td>\n",
              "      <td>24</td>\n",
              "      <td>39</td>\n",
              "      <td>39</td>\n",
              "      <td>39</td>\n",
              "      <td>31</td>\n",
              "      <td>33</td>\n",
              "      <td>40</td>\n",
              "      <td>37</td>\n",
              "      <td>33</td>\n",
              "      <td>37</td>\n",
              "      <td>39</td>\n",
              "      <td>39</td>\n",
              "      <td>7552</td>\n",
              "    </tr>\n",
              "  </tbody>\n",
              "</table>\n",
              "<p>3 rows × 222 columns</p>\n",
              "</div>"
            ],
            "text/plain": [
              "keyword  ablaze  accident  aftershock  ...  wreckage  wrecked  Total\n",
              "target                                 ...                          \n",
              "0            23        11          34  ...         0       36   4323\n",
              "1            13        24           0  ...        39        3   3229\n",
              "Total        36        35          34  ...        39       39   7552\n",
              "\n",
              "[3 rows x 222 columns]"
            ]
          },
          "metadata": {
            "tags": []
          },
          "execution_count": 9
        }
      ]
    },
    {
      "cell_type": "markdown",
      "metadata": {
        "id": "FGz-vEO7v5tm"
      },
      "source": [
        "##### The count of real and non real tweets is listed below, 1 is real and 0 is non real disasters"
      ]
    },
    {
      "cell_type": "code",
      "metadata": {
        "colab": {
          "base_uri": "https://localhost:8080/"
        },
        "id": "MKug04Nzsy07",
        "outputId": "eaf85c8d-fde4-4077-8303-2e3ee93c1361"
      },
      "source": [
        "df.target.value_counts()"
      ],
      "execution_count": 10,
      "outputs": [
        {
          "output_type": "execute_result",
          "data": {
            "text/plain": [
              "0    4342\n",
              "1    3271\n",
              "Name: target, dtype: int64"
            ]
          },
          "metadata": {
            "tags": []
          },
          "execution_count": 10
        }
      ]
    },
    {
      "cell_type": "markdown",
      "metadata": {
        "id": "CZPkr8bOwZc2"
      },
      "source": [
        "#####Plot of the real disasters vs non-real disasters in the data:"
      ]
    },
    {
      "cell_type": "code",
      "metadata": {
        "colab": {
          "base_uri": "https://localhost:8080/",
          "height": 383
        },
        "id": "601eun0BQtIj",
        "outputId": "12688f3f-ad0b-4866-9656-30435be6fc15"
      },
      "source": [
        "import seaborn as sns\r\n",
        "g = sns.catplot(x=\"target\",\r\n",
        "                #row=\"keyword\", \r\n",
        "                data=df, kind=\"count\")"
      ],
      "execution_count": 11,
      "outputs": [
        {
          "output_type": "display_data",
          "data": {
            "image/png": "[encoded data removed]",
            "text/plain": [
              "<Figure size 360x360 with 1 Axes>"
            ]
          },
          "metadata": {
            "tags": [],
            "needs_background": "light"
          }
        }
      ]
    },
    {
      "cell_type": "markdown",
      "metadata": {
        "id": "Uha3XCIpWon_"
      },
      "source": [
        "###Data Cleaning"
      ]
    },
    {
      "cell_type": "markdown",
      "metadata": {
        "id": "m92yU7FhIszZ"
      },
      "source": [
        "Leaving only characters and spaces"
      ]
    },
    {
      "cell_type": "code",
      "metadata": {
        "colab": {
          "base_uri": "https://localhost:8080/"
        },
        "id": "feQfHPCy4ilq",
        "outputId": "903121d2-716b-430a-f2a1-3e3eb032dbed"
      },
      "source": [
        "#Tokenize the text \r\n",
        "import nltk\r\n",
        "nltk.download('punkt')\r\n",
        "df['unigrams'] = df['text'].apply(nltk.word_tokenize)\r\n",
        "df['unigrams_two'] = df.apply(lambda row: nltk.word_tokenize(row['text']), axis=1).astype(str)\r\n",
        "\r\n",
        "# remove anything but characters and spaces\r\n",
        "df['sentences'] = df['unigrams_two'].str.replace('[^A-z ]','').str.replace(' +',' ').str.strip()\r\n",
        "#print(df.sentences)\r\n",
        "\r\n",
        "df['splitwords'] = [ nltk.word_tokenize( str(sentence) ) for sentence in df.sentences ]\r\n",
        "#print(df.splitwords)\r\n",
        "\r\n",
        "df['word_charter_counts'] = [ len(words) for words in df.splitwords ]\r\n",
        "#print(df.word_charter_counts)\r\n",
        "\r\n",
        "df['word_counts'] = [ sentence.count(' ') + 1 for sentence in df.sentences ]\r\n",
        "#print(df.word_counts)\r\n",
        "\r\n"
      ],
      "execution_count": 12,
      "outputs": [
        {
          "output_type": "stream",
          "text": [
            "[nltk_data] Downloading package punkt to /root/nltk_data...\n",
            "[nltk_data]   Package punkt is already up-to-date!\n"
          ],
          "name": "stdout"
        }
      ]
    },
    {
      "cell_type": "code",
      "metadata": {
        "colab": {
          "base_uri": "https://localhost:8080/",
          "height": 660
        },
        "id": "kggkZ1jYC9yz",
        "outputId": "8341a37e-8aa1-4611-d293-a6239b778f3e"
      },
      "source": [
        "df.head()\r\n"
      ],
      "execution_count": 18,
      "outputs": [
        {
          "output_type": "execute_result",
          "data": {
            "text/html": [
              "<div>\n",
              "<style scoped>\n",
              "    .dataframe tbody tr th:only-of-type {\n",
              "        vertical-align: middle;\n",
              "    }\n",
              "\n",
              "    .dataframe tbody tr th {\n",
              "        vertical-align: top;\n",
              "    }\n",
              "\n",
              "    .dataframe thead th {\n",
              "        text-align: right;\n",
              "    }\n",
              "</style>\n",
              "<table border=\"1\" class=\"dataframe\">\n",
              "  <thead>\n",
              "    <tr style=\"text-align: right;\">\n",
              "      <th></th>\n",
              "      <th>id</th>\n",
              "      <th>keyword</th>\n",
              "      <th>location</th>\n",
              "      <th>text</th>\n",
              "      <th>target</th>\n",
              "      <th>unigrams</th>\n",
              "      <th>unigrams_two</th>\n",
              "      <th>sentences</th>\n",
              "      <th>splitwords</th>\n",
              "      <th>word_charter_counts</th>\n",
              "      <th>word_counts</th>\n",
              "    </tr>\n",
              "  </thead>\n",
              "  <tbody>\n",
              "    <tr>\n",
              "      <th>0</th>\n",
              "      <td>1</td>\n",
              "      <td>NaN</td>\n",
              "      <td>NaN</td>\n",
              "      <td>Our Deeds are the Reason of this #earthquake M...</td>\n",
              "      <td>1</td>\n",
              "      <td>[Our, Deeds, are, the, Reason, of, this, #, ea...</td>\n",
              "      <td>['Our', 'Deeds', 'are', 'the', 'Reason', 'of',...</td>\n",
              "      <td>[Our Deeds are the Reason of this earthquake M...</td>\n",
              "      <td>[[, Our, Deeds, are, the, Reason, of, this, ea...</td>\n",
              "      <td>15</td>\n",
              "      <td>13</td>\n",
              "    </tr>\n",
              "    <tr>\n",
              "      <th>1</th>\n",
              "      <td>4</td>\n",
              "      <td>NaN</td>\n",
              "      <td>NaN</td>\n",
              "      <td>Forest fire near La Ronge Sask. Canada</td>\n",
              "      <td>1</td>\n",
              "      <td>[Forest, fire, near, La, Ronge, Sask, ., Canada]</td>\n",
              "      <td>['Forest', 'fire', 'near', 'La', 'Ronge', 'Sas...</td>\n",
              "      <td>[Forest fire near La Ronge Sask Canada]</td>\n",
              "      <td>[[, Forest, fire, near, La, Ronge, Sask, Canad...</td>\n",
              "      <td>9</td>\n",
              "      <td>7</td>\n",
              "    </tr>\n",
              "    <tr>\n",
              "      <th>2</th>\n",
              "      <td>5</td>\n",
              "      <td>NaN</td>\n",
              "      <td>NaN</td>\n",
              "      <td>All residents asked to 'shelter in place' are ...</td>\n",
              "      <td>1</td>\n",
              "      <td>[All, residents, asked, to, 'shelter, in, plac...</td>\n",
              "      <td>['All', 'residents', 'asked', 'to', \"'shelter\"...</td>\n",
              "      <td>[All residents asked to shelter in place are b...</td>\n",
              "      <td>[[, All, residents, asked, to, shelter, in, pl...</td>\n",
              "      <td>24</td>\n",
              "      <td>22</td>\n",
              "    </tr>\n",
              "    <tr>\n",
              "      <th>3</th>\n",
              "      <td>6</td>\n",
              "      <td>NaN</td>\n",
              "      <td>NaN</td>\n",
              "      <td>13,000 people receive #wildfires evacuation or...</td>\n",
              "      <td>1</td>\n",
              "      <td>[13,000, people, receive, #, wildfires, evacua...</td>\n",
              "      <td>['13,000', 'people', 'receive', '#', 'wildfire...</td>\n",
              "      <td>[ people receive wildfires evacuation orders i...</td>\n",
              "      <td>[[, people, receive, wildfires, evacuation, or...</td>\n",
              "      <td>9</td>\n",
              "      <td>8</td>\n",
              "    </tr>\n",
              "    <tr>\n",
              "      <th>4</th>\n",
              "      <td>7</td>\n",
              "      <td>NaN</td>\n",
              "      <td>NaN</td>\n",
              "      <td>Just got sent this photo from Ruby #Alaska as ...</td>\n",
              "      <td>1</td>\n",
              "      <td>[Just, got, sent, this, photo, from, Ruby, #, ...</td>\n",
              "      <td>['Just', 'got', 'sent', 'this', 'photo', 'from...</td>\n",
              "      <td>[Just got sent this photo from Ruby Alaska as ...</td>\n",
              "      <td>[[, Just, got, sent, this, photo, from, Ruby, ...</td>\n",
              "      <td>18</td>\n",
              "      <td>16</td>\n",
              "    </tr>\n",
              "  </tbody>\n",
              "</table>\n",
              "</div>"
            ],
            "text/plain": [
              "   id keyword  ... word_charter_counts word_counts\n",
              "0   1     NaN  ...                  15          13\n",
              "1   4     NaN  ...                   9           7\n",
              "2   5     NaN  ...                  24          22\n",
              "3   6     NaN  ...                   9           8\n",
              "4   7     NaN  ...                  18          16\n",
              "\n",
              "[5 rows x 11 columns]"
            ]
          },
          "metadata": {
            "tags": []
          },
          "execution_count": 18
        }
      ]
    },
    {
      "cell_type": "code",
      "metadata": {
        "colab": {
          "base_uri": "https://localhost:8080/",
          "height": 331
        },
        "id": "3X0SA_DE_kKK",
        "outputId": "01e5e260-f6fb-4e76-a30e-83fbeaae2b99"
      },
      "source": [
        "print(max(df.word_charter_counts))\r\n",
        "sns.histplot(df['word_charter_counts'].astype(int),\r\n",
        "             bins=max(df.word_charter_counts)).set_title('Word Charter Counts')\r\n"
      ],
      "execution_count": 32,
      "outputs": [
        {
          "output_type": "stream",
          "text": [
            "34\n"
          ],
          "name": "stdout"
        },
        {
          "output_type": "execute_result",
          "data": {
            "text/plain": [
              "Text(0.5, 1.0, 'Word Charter Counts')"
            ]
          },
          "metadata": {
            "tags": []
          },
          "execution_count": 32
        },
        {
          "output_type": "display_data",
          "data": {
            "image/png": "[encoded data removed]",
            "text/plain": [
              "<Figure size 432x288 with 1 Axes>"
            ]
          },
          "metadata": {
            "tags": [],
            "needs_background": "light"
          }
        }
      ]
    },
    {
      "cell_type": "code",
      "metadata": {
        "colab": {
          "base_uri": "https://localhost:8080/",
          "height": 331
        },
        "id": "g_vqIyO9GFBm",
        "outputId": "c5d4bdb1-6a31-4263-e1c7-256f11ff33ba"
      },
      "source": [
        "print(max(df.word_counts))\r\n",
        "sns.histplot(df['word_counts'].astype(int),\r\n",
        "             bins=max(df.word_counts)).set_title('Word Counts')"
      ],
      "execution_count": 33,
      "outputs": [
        {
          "output_type": "stream",
          "text": [
            "33\n"
          ],
          "name": "stdout"
        },
        {
          "output_type": "execute_result",
          "data": {
            "text/plain": [
              "Text(0.5, 1.0, 'Word Counts')"
            ]
          },
          "metadata": {
            "tags": []
          },
          "execution_count": 33
        },
        {
          "output_type": "display_data",
          "data": {
            "image/png": "[encoded data removed]",
            "text/plain": [
              "<Figure size 432x288 with 1 Axes>"
            ]
          },
          "metadata": {
            "tags": [],
            "needs_background": "light"
          }
        }
      ]
    },
    {
      "cell_type": "markdown",
      "metadata": {
        "id": "9bfB4U8HWudM"
      },
      "source": [
        "####Removing non-unicode characters\r\n",
        "\r\n",
        "\r\n"
      ]
    },
    {
      "cell_type": "markdown",
      "metadata": {
        "id": "U_rm6ALEW2F3"
      },
      "source": [
        "####Creation of metadata to help train models\r\n",
        "1. Length of tweet (words and characters?) - words done\r\n",
        "1. Count of total tweets from same location with same keyword? (Higher numbers might be more indicative of a disaster?)\r\n",
        "1. TF and TF-IDF for each tweet\r\n",
        "1. Number of @ mentions\r\n",
        "1. Number of #\r\n",
        "1. Number of URLs?"
      ]
    }
  ]
}